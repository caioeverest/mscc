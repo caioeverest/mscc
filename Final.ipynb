{
 "cells": [
  {
   "cell_type": "markdown",
   "id": "76b5aa76",
   "metadata": {},
   "source": [
    "# Bellcore data transference analisys"
   ]
  },
  {
   "cell_type": "markdown",
   "id": "3c41223c",
   "metadata": {},
   "source": [
    "* Caio Everest - caioeverest@edu.unirio.br\n",
    "* Cesar - cesar@edu.unirio.br"
   ]
  },
  {
   "cell_type": "markdown",
   "id": "60807ec8",
   "metadata": {},
   "source": [
    "## imports"
   ]
  },
  {
   "cell_type": "code",
   "execution_count": 1,
   "id": "411c0015",
   "metadata": {},
   "outputs": [],
   "source": [
    "import pandas as pd\n",
    "import numpy as np\n",
    "import datetime as dt\n",
    "import matplotlib.pyplot as plt\n",
    "import scipy\n",
    "import seaborn as sns\n",
    "from scipy.stats import poisson\n",
    "from scipy.stats import uniform\n",
    "from scipy.stats import norm"
   ]
  },
  {
   "cell_type": "markdown",
   "id": "f75dd7e6",
   "metadata": {},
   "source": [
    "## read file and set columns identifiers"
   ]
  },
  {
   "cell_type": "code",
   "execution_count": 2,
   "id": "8847484f",
   "metadata": {},
   "outputs": [
    {
     "data": {
      "text/html": [
       "<div>\n",
       "<style scoped>\n",
       "    .dataframe tbody tr th:only-of-type {\n",
       "        vertical-align: middle;\n",
       "    }\n",
       "\n",
       "    .dataframe tbody tr th {\n",
       "        vertical-align: top;\n",
       "    }\n",
       "\n",
       "    .dataframe thead th {\n",
       "        text-align: right;\n",
       "    }\n",
       "</style>\n",
       "<table border=\"1\" class=\"dataframe\">\n",
       "  <thead>\n",
       "    <tr style=\"text-align: right;\">\n",
       "      <th></th>\n",
       "      <th>time</th>\n",
       "      <th>package_size</th>\n",
       "    </tr>\n",
       "  </thead>\n",
       "  <tbody>\n",
       "    <tr>\n",
       "      <th>count</th>\n",
       "      <td>13107.000000</td>\n",
       "      <td>13107.000000</td>\n",
       "    </tr>\n",
       "    <tr>\n",
       "      <th>mean</th>\n",
       "      <td>21.046862</td>\n",
       "      <td>657.022889</td>\n",
       "    </tr>\n",
       "    <tr>\n",
       "      <th>std</th>\n",
       "      <td>11.043100</td>\n",
       "      <td>586.662403</td>\n",
       "    </tr>\n",
       "    <tr>\n",
       "      <th>min</th>\n",
       "      <td>0.017716</td>\n",
       "      <td>64.000000</td>\n",
       "    </tr>\n",
       "    <tr>\n",
       "      <th>25%</th>\n",
       "      <td>11.290324</td>\n",
       "      <td>133.000000</td>\n",
       "    </tr>\n",
       "    <tr>\n",
       "      <th>50%</th>\n",
       "      <td>23.519164</td>\n",
       "      <td>174.000000</td>\n",
       "    </tr>\n",
       "    <tr>\n",
       "      <th>75%</th>\n",
       "      <td>30.037934</td>\n",
       "      <td>1090.000000</td>\n",
       "    </tr>\n",
       "    <tr>\n",
       "      <th>max</th>\n",
       "      <td>38.706900</td>\n",
       "      <td>1518.000000</td>\n",
       "    </tr>\n",
       "  </tbody>\n",
       "</table>\n",
       "</div>"
      ],
      "text/plain": [
       "               time  package_size\n",
       "count  13107.000000  13107.000000\n",
       "mean      21.046862    657.022889\n",
       "std       11.043100    586.662403\n",
       "min        0.017716     64.000000\n",
       "25%       11.290324    133.000000\n",
       "50%       23.519164    174.000000\n",
       "75%       30.037934   1090.000000\n",
       "max       38.706900   1518.000000"
      ]
     },
     "execution_count": 2,
     "metadata": {},
     "output_type": "execute_result"
    }
   ],
   "source": [
    "path_file = 'bellcore_data.csv'\n",
    "df = pd.read_csv(path_file,header=None)\n",
    "df.columns = ['time', 'package_size']\n",
    "df.describe()"
   ]
  },
  {
   "cell_type": "code",
   "execution_count": 3,
   "id": "0d03a5c4",
   "metadata": {},
   "outputs": [],
   "source": [
    "df.time = pd.to_timedelta(df.time, unit=\"s\")\n",
    "df.set_index(\"time\",inplace=True)"
   ]
  },
  {
   "cell_type": "markdown",
   "id": "85a57841",
   "metadata": {},
   "source": [
    "## Package size"
   ]
  },
  {
   "cell_type": "code",
   "execution_count": 4,
   "id": "532a5af7",
   "metadata": {},
   "outputs": [],
   "source": [
    "ps_array = np.array(df.package_size)"
   ]
  },
  {
   "cell_type": "markdown",
   "id": "70e424bf",
   "metadata": {},
   "source": [
    "### Plot histogram of PackageSize"
   ]
  },
  {
   "cell_type": "code",
   "execution_count": 5,
   "id": "eda3100c",
   "metadata": {},
   "outputs": [
    {
     "data": {
      "image/png": "[encoded data removed]",
      "text/plain": [
       "<Figure size 432x288 with 1 Axes>"
      ]
     },
     "metadata": {
      "needs_background": "light"
     },
     "output_type": "display_data"
    }
   ],
   "source": [
    "ps_hx, ps_hy, _ = plt.hist(ps_array, bins=50, color=\"lightblue\")\n",
    "\n",
    "plt.ylim(0.0,max(ps_hx)+0.05)\n",
    "plt.title('Histogram')\n",
    "plt.grid()\n",
    "\n",
    "plt.show()\n",
    "plt.close()"
   ]
  },
  {
   "cell_type": "markdown",
   "id": "46b38127",
   "metadata": {},
   "source": [
    "### Apply cumulative sum function "
   ]
  },
  {
   "cell_type": "code",
   "execution_count": 50,
   "id": "a2568b6c",
   "metadata": {
    "scrolled": true
   },
   "outputs": [
    {
     "data": {
      "image/png": "[encoded data removed]",
      "text/plain": [
       "<Figure size 432x288 with 1 Axes>"
      ]
     },
     "metadata": {
      "needs_background": "light"
     },
     "output_type": "display_data"
    }
   ],
   "source": [
    "ps_dx = ps_hx[1] - ps_hy[0]\n",
    "ps_cumsum = np.cumsum(ps_hx)*ps_dx\n",
    "\n",
    "plt.plot(ps_cumsum, ps_hy[1:])\n",
    "\n",
    "plt.title('Cumulative sum function')\n",
    "\n",
    "plt.show()\n",
    "plt.close()"
   ]
  },
  {
   "cell_type": "markdown",
   "id": "20dd61bb",
   "metadata": {},
   "source": [
    "### Normal"
   ]
  },
  {
   "cell_type": "code",
   "execution_count": 7,
   "id": "ef14e102",
   "metadata": {},
   "outputs": [
    {
     "data": {
      "image/png": "[encoded data removed]",
      "text/plain": [
       "<Figure size 432x288 with 1 Axes>"
      ]
     },
     "metadata": {
      "needs_background": "light"
     },
     "output_type": "display_data"
    }
   ],
   "source": [
    "ps_x = np.linspace(df.package_size.min(),df.package_size.max(),df.package_size.size)\n",
    "#ps_y = norm.cdf(ps_array, ps_mean, ps_std)\n",
    "ps_y = norm.cdf(ps_array)\n",
    "\n",
    "plt.plot(ps_x, ps_y)\n",
    "\n",
    "plt.title('Normal cumulative distribution function')\n",
    "\n",
    "plt.show()\n",
    "plt.close()"
   ]
  },
  {
   "cell_type": "code",
   "execution_count": 51,
   "id": "1bbfeb3a",
   "metadata": {},
   "outputs": [],
   "source": [
    "df_100ms = df.package_size.resample('100ms').sum()\n",
    "df_1s = df.package_size.resample('1s').sum()\n",
    "df_10s = df.package_size.resample('10s').sum()"
   ]
  },
  {
   "cell_type": "code",
   "execution_count": 52,
   "id": "e5023a40",
   "metadata": {},
   "outputs": [
    {
     "data": {
      "text/plain": [
       "count      387.000000\n",
       "mean     22252.193798\n",
       "std      14748.435576\n",
       "min        334.000000\n",
       "25%      11253.000000\n",
       "50%      19006.000000\n",
       "75%      30345.500000\n",
       "max      68705.000000\n",
       "Name: package_size, dtype: float64"
      ]
     },
     "execution_count": 52,
     "metadata": {},
     "output_type": "execute_result"
    }
   ],
   "source": [
    "df_100ms.describe()"
   ]
  },
  {
   "cell_type": "code",
   "execution_count": 53,
   "id": "878b06dc",
   "metadata": {},
   "outputs": [
    {
     "data": {
      "text/plain": [
       "count        39.000000\n",
       "mean     220810.230769\n",
       "std       92815.903415\n",
       "min       44885.000000\n",
       "25%      141817.000000\n",
       "50%      204622.000000\n",
       "75%      319934.000000\n",
       "max      373018.000000\n",
       "Name: package_size, dtype: float64"
      ]
     },
     "execution_count": 53,
     "metadata": {},
     "output_type": "execute_result"
    }
   ],
   "source": [
    "df_1s.describe()"
   ]
  },
  {
   "cell_type": "code",
   "execution_count": 54,
   "id": "c3222cc5",
   "metadata": {},
   "outputs": [
    {
     "data": {
      "text/plain": [
       "count    4.000000e+00\n",
       "mean     2.152900e+06\n",
       "std      6.179732e+05\n",
       "min      1.480613e+06\n",
       "25%      1.827703e+06\n",
       "50%      2.087959e+06\n",
       "75%      2.413156e+06\n",
       "max      2.955068e+06\n",
       "Name: package_size, dtype: float64"
      ]
     },
     "execution_count": 54,
     "metadata": {},
     "output_type": "execute_result"
    }
   ],
   "source": [
    "df_10s.describe()"
   ]
  },
  {
   "cell_type": "code",
   "execution_count": 12,
   "id": "c9008351",
   "metadata": {},
   "outputs": [
    {
     "data": {
      "image/png": "[encoded data removed]",
      "text/plain": [
       "<Figure size 432x288 with 1 Axes>"
      ]
     },
     "metadata": {
      "needs_background": "light"
     },
     "output_type": "display_data"
    }
   ],
   "source": [
    "d100ms_hx, d100ms_hy, _ = plt.hist(df_100ms, bins=50, color=\"lightblue\")\n",
    "d1s_hx, d1s_hy, _ = plt.hist(df_1s, bins=50, color=\"red\")\n",
    "d1s_hx, d1s_hy, _ = plt.hist(df_10s, bins=50, color=\"orange\")\n",
    "\n",
    "plt.title('Histogram')\n",
    "plt.grid()\n",
    "\n",
    "plt.show()\n",
    "plt.close()"
   ]
  },
  {
   "cell_type": "markdown",
   "id": "8f288a68",
   "metadata": {},
   "source": [
    "## 100ms"
   ]
  },
  {
   "cell_type": "markdown",
   "id": "132e032c",
   "metadata": {},
   "source": [
    "### Histogram"
   ]
  },
  {
   "cell_type": "code",
   "execution_count": 13,
   "id": "2088e514",
   "metadata": {},
   "outputs": [
    {
     "data": {
      "image/png": "[encoded data removed]",
      "text/plain": [
       "<Figure size 432x288 with 1 Axes>"
      ]
     },
     "metadata": {
      "needs_background": "light"
     },
     "output_type": "display_data"
    }
   ],
   "source": [
    "d100ms_hx, d100ms_hy, _ = plt.hist(df_100ms, bins=50, color=\"lightblue\")\n",
    "\n",
    "plt.ylim(0.0,max(d100ms_hx)+0.05)\n",
    "plt.title('Histogram')\n",
    "plt.grid()\n",
    "\n",
    "plt.show()\n",
    "plt.close()"
   ]
  },
  {
   "cell_type": "markdown",
   "id": "931da6a6",
   "metadata": {},
   "source": [
    "### Cumulative sum function"
   ]
  },
  {
   "cell_type": "code",
   "execution_count": 45,
   "id": "515a9542",
   "metadata": {},
   "outputs": [
    {
     "data": {
      "image/png": "[encoded data removed]",
      "text/plain": [
       "<Figure size 432x288 with 1 Axes>"
      ]
     },
     "metadata": {
      "needs_background": "light"
     },
     "output_type": "display_data"
    }
   ],
   "source": [
    "dx = d100ms_hx[1] - d100ms_hy[0]\n",
    "ps_100ms_cumsum = np.cumsum(d100ms_hx)*dx\n",
    "\n",
    "plt.plot(ps_100ms_cumsum, d100ms_hy[1:], color=\"lightblue\")\n",
    "\n",
    "plt.title('Cumulative sum function')\n",
    "\n",
    "plt.show()\n",
    "plt.close()"
   ]
  },
  {
   "cell_type": "markdown",
   "id": "729dce13",
   "metadata": {},
   "source": [
    "### Poisson"
   ]
  },
  {
   "cell_type": "code",
   "execution_count": 64,
   "id": "f129ca0b",
   "metadata": {},
   "outputs": [
    {
     "data": {
      "text/plain": [
       "Text(0, 0.5, 'P(X=k)')"
      ]
     },
     "execution_count": 64,
     "metadata": {},
     "output_type": "execute_result"
    },
    {
     "data": {
      "image/png": "[encoded data removed]",
      "text/plain": [
       "<Figure size 432x288 with 1 Axes>"
      ]
     },
     "metadata": {
      "needs_background": "light"
     },
     "output_type": "display_data"
    }
   ],
   "source": [
    "poisson_100ms = poisson.rvs(mu=df_100ms.mean(), size=df_100ms.size)\n",
    "sns.histplot(poisson_100ms, color=\"lightblue\")\n",
    "plt.xlabel('k')\n",
    "plt.ylabel('P(X=k)')"
   ]
  },
  {
   "cell_type": "markdown",
   "id": "716eb063",
   "metadata": {},
   "source": [
    "## 1 Sec"
   ]
  },
  {
   "cell_type": "markdown",
   "id": "ab21f8b7",
   "metadata": {},
   "source": [
    "### Histogram"
   ]
  },
  {
   "cell_type": "code",
   "execution_count": 16,
   "id": "bb146534",
   "metadata": {},
   "outputs": [
    {
     "data": {
      "image/png": "[encoded data removed]",
      "text/plain": [
       "<Figure size 432x288 with 1 Axes>"
      ]
     },
     "metadata": {
      "needs_background": "light"
     },
     "output_type": "display_data"
    }
   ],
   "source": [
    "d1s_hx, d1s_hy, _ = plt.hist(df_1s, bins=50, color=\"red\")\n",
    "\n",
    "plt.ylim(0.0,max(d1s_hx)+0.05)\n",
    "plt.title('Histogram')\n",
    "plt.grid()\n",
    "\n",
    "plt.show()\n",
    "plt.close()"
   ]
  },
  {
   "cell_type": "markdown",
   "id": "9c7372f4",
   "metadata": {},
   "source": [
    "### Cumulative sum function"
   ]
  },
  {
   "cell_type": "code",
   "execution_count": 46,
   "id": "9d25d3a9",
   "metadata": {},
   "outputs": [
    {
     "data": {
      "image/png": "[encoded data removed]",
      "text/plain": [
       "<Figure size 432x288 with 1 Axes>"
      ]
     },
     "metadata": {
      "needs_background": "light"
     },
     "output_type": "display_data"
    }
   ],
   "source": [
    "dx = d1s_hx[1] - d1s_hy[0]\n",
    "ps_1s_cumsum = np.cumsum(d1s_hx)*dx\n",
    "\n",
    "plt.plot(ps_1s_cumsum, d1s_hy[1:], color=\"red\")\n",
    "\n",
    "plt.title('Cumulative sum function')\n",
    "\n",
    "plt.show()\n",
    "plt.close()"
   ]
  },
  {
   "cell_type": "markdown",
   "id": "e971900d",
   "metadata": {},
   "source": [
    "### Poisson"
   ]
  },
  {
   "cell_type": "code",
   "execution_count": 18,
   "id": "652c72c8",
   "metadata": {},
   "outputs": [
    {
     "data": {
      "text/plain": [
       "Text(0, 0.5, 'P(X=k)')"
      ]
     },
     "execution_count": 18,
     "metadata": {},
     "output_type": "execute_result"
    },
    {
     "data": {
      "image/png": "[encoded data removed]",
      "text/plain": [
       "<Figure size 432x288 with 1 Axes>"
      ]
     },
     "metadata": {
      "needs_background": "light"
     },
     "output_type": "display_data"
    }
   ],
   "source": [
    "poisson_1s = poisson.rvs(mu=df_1s.mean(), size=df_1s.size)\n",
    "sns.histplot(poisson_1s, color=\"red\")\n",
    "plt.xlabel('k')\n",
    "plt.ylabel('P(X=k)')"
   ]
  },
  {
   "cell_type": "markdown",
   "id": "6cf45159",
   "metadata": {},
   "source": [
    "## 10 Sec"
   ]
  },
  {
   "cell_type": "markdown",
   "id": "8be3ae6d",
   "metadata": {},
   "source": [
    "### Histogram"
   ]
  },
  {
   "cell_type": "code",
   "execution_count": 19,
   "id": "34d06c61",
   "metadata": {},
   "outputs": [
    {
     "data": {
      "image/png": "[encoded data removed]",
      "text/plain": [
       "<Figure size 432x288 with 1 Axes>"
      ]
     },
     "metadata": {
      "needs_background": "light"
     },
     "output_type": "display_data"
    }
   ],
   "source": [
    "d10s_hx, d10s_hy, _ = plt.hist(df_10s, color=\"orange\")\n",
    "\n",
    "plt.title('Histogram')\n",
    "plt.grid()\n",
    "\n",
    "plt.show()\n",
    "plt.close()"
   ]
  },
  {
   "cell_type": "markdown",
   "id": "d5921370",
   "metadata": {},
   "source": [
    "### Cumulative sum function"
   ]
  },
  {
   "cell_type": "code",
   "execution_count": 49,
   "id": "6ea17fff",
   "metadata": {},
   "outputs": [
    {
     "data": {
      "image/png": "[encoded data removed]",
      "text/plain": [
       "<Figure size 432x288 with 1 Axes>"
      ]
     },
     "metadata": {
      "needs_background": "light"
     },
     "output_type": "display_data"
    }
   ],
   "source": [
    "dx = d10s_hx[1] - d10s_hy[0]\n",
    "ps_cumsum = np.cumsum(d10s_hx)*dx\n",
    "\n",
    "plt.plot(ps_cumsum, d10s_hy[1:], color=\"orange\")\n",
    "\n",
    "plt.title('Cumulative sum function')\n",
    "\n",
    "plt.show()\n",
    "plt.close()"
   ]
  },
  {
   "cell_type": "markdown",
   "id": "61ff7c00",
   "metadata": {},
   "source": [
    "### Poisson"
   ]
  },
  {
   "cell_type": "code",
   "execution_count": 48,
   "id": "ebb429fd",
   "metadata": {},
   "outputs": [
    {
     "data": {
      "text/plain": [
       "Text(0, 0.5, 'P(X=k)')"
      ]
     },
     "execution_count": 48,
     "metadata": {},
     "output_type": "execute_result"
    },
    {
     "data": {
      "image/png": "[encoded data removed]",
      "text/plain": [
       "<Figure size 432x288 with 1 Axes>"
      ]
     },
     "metadata": {
      "needs_background": "light"
     },
     "output_type": "display_data"
    }
   ],
   "source": [
    "poisson_10s = poisson.rvs(mu=df_10s.mean(), size=df_10s.size)\n",
    "sns.histplot(poisson_10s, color=\"orange\")\n",
    "plt.xlabel('k')\n",
    "plt.ylabel('P(X=k)')"
   ]
  },
  {
   "cell_type": "code",
   "execution_count": null,
   "id": "0d2250b7",
   "metadata": {},
   "outputs": [],
   "source": []
  }
 ],
 "metadata": {
  "kernelspec": {
   "display_name": "Python 3",
   "language": "python",
   "name": "python3"
  },
  "language_info": {
   "codemirror_mode": {
    "name": "ipython",
    "version": 3
   },
   "file_extension": ".py",
   "mimetype": "text/x-python",
   "name": "python",
   "nbconvert_exporter": "python",
   "pygments_lexer": "ipython3",
   "version": "3.8.5"
  }
 },
 "nbformat": 4,
 "nbformat_minor": 5
}
