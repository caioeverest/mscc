{
 "cells": [
  {
   "cell_type": "markdown",
   "id": "76b5aa76",
   "metadata": {},
   "source": [
    "# Bellcore data transference analisys"
   ]
  },
  {
   "cell_type": "markdown",
   "id": "3c41223c",
   "metadata": {},
   "source": [
    "* Caio Everest - caioeverest@edu.unirio.br\n",
    "* Cesar Silva - cesar.silva@edu.unirio.br"
   ]
  },
  {
   "cell_type": "markdown",
   "id": "60807ec8",
   "metadata": {},
   "source": [
    "## imports"
   ]
  },
  {
   "cell_type": "code",
   "execution_count": 1,
   "id": "411c0015",
   "metadata": {},
   "outputs": [],
   "source": [
    "import pandas as pd\n",
    "import numpy as np\n",
    "import datetime as dt\n",
    "import matplotlib.pyplot as plt\n",
    "import scipy\n",
    "import seaborn as sns\n",
    "from scipy.stats import poisson\n",
    "from scipy.stats import uniform\n",
    "from scipy.stats import norm\n",
    "from scipy.stats import pareto, mielke, nakagami, pearson3\n",
    "from scipy.stats import skew, kurtosis\n",
    "from scipy import signal"
   ]
  },
  {
   "cell_type": "markdown",
   "id": "f75dd7e6",
   "metadata": {},
   "source": [
    "## read file and set columns identifiers"
   ]
  },
  {
   "cell_type": "code",
   "execution_count": 2,
   "id": "8847484f",
   "metadata": {},
   "outputs": [
    {
     "data": {
      "text/html": [
       "<div>\n",
       "<style scoped>\n",
       "    .dataframe tbody tr th:only-of-type {\n",
       "        vertical-align: middle;\n",
       "    }\n",
       "\n",
       "    .dataframe tbody tr th {\n",
       "        vertical-align: top;\n",
       "    }\n",
       "\n",
       "    .dataframe thead th {\n",
       "        text-align: right;\n",
       "    }\n",
       "</style>\n",
       "<table border=\"1\" class=\"dataframe\">\n",
       "  <thead>\n",
       "    <tr style=\"text-align: right;\">\n",
       "      <th></th>\n",
       "      <th>time</th>\n",
       "      <th>package_size</th>\n",
       "    </tr>\n",
       "  </thead>\n",
       "  <tbody>\n",
       "    <tr>\n",
       "      <th>count</th>\n",
       "      <td>1000000.000000</td>\n",
       "      <td>1000000.000000</td>\n",
       "    </tr>\n",
       "    <tr>\n",
       "      <th>mean</th>\n",
       "      <td>452.770252</td>\n",
       "      <td>638.289839</td>\n",
       "    </tr>\n",
       "    <tr>\n",
       "      <th>std</th>\n",
       "      <td>251.903286</td>\n",
       "      <td>519.180878</td>\n",
       "    </tr>\n",
       "    <tr>\n",
       "      <th>min</th>\n",
       "      <td>0.000000</td>\n",
       "      <td>64.000000</td>\n",
       "    </tr>\n",
       "    <tr>\n",
       "      <th>25%</th>\n",
       "      <td>254.879005</td>\n",
       "      <td>130.000000</td>\n",
       "    </tr>\n",
       "    <tr>\n",
       "      <th>50%</th>\n",
       "      <td>444.953128</td>\n",
       "      <td>1082.000000</td>\n",
       "    </tr>\n",
       "    <tr>\n",
       "      <th>75%</th>\n",
       "      <td>641.193766</td>\n",
       "      <td>1082.000000</td>\n",
       "    </tr>\n",
       "    <tr>\n",
       "      <th>max</th>\n",
       "      <td>999.996808</td>\n",
       "      <td>1518.000000</td>\n",
       "    </tr>\n",
       "  </tbody>\n",
       "</table>\n",
       "</div>"
      ],
      "text/plain": [
       "                 time    package_size\n",
       "count  1000000.000000  1000000.000000\n",
       "mean       452.770252      638.289839\n",
       "std        251.903286      519.180878\n",
       "min          0.000000       64.000000\n",
       "25%        254.879005      130.000000\n",
       "50%        444.953128     1082.000000\n",
       "75%        641.193766     1082.000000\n",
       "max        999.996808     1518.000000"
      ]
     },
     "execution_count": 2,
     "metadata": {},
     "output_type": "execute_result"
    }
   ],
   "source": [
    "path_file = 'bellcore_data.csv'\n",
    "df = pd.read_csv(path_file,header=None)\n",
    "df.columns = ['time', 'package_size']\n",
    "df.describe()"
   ]
  },
  {
   "cell_type": "code",
   "execution_count": 3,
   "id": "0d03a5c4",
   "metadata": {},
   "outputs": [],
   "source": [
    "df.time = pd.to_timedelta(df.time, unit=\"s\")\n",
    "df.set_index(\"time\",inplace=True)"
   ]
  },
  {
   "cell_type": "markdown",
   "id": "85a57841",
   "metadata": {},
   "source": [
    "## Package size"
   ]
  },
  {
   "cell_type": "code",
   "execution_count": 4,
   "id": "532a5af7",
   "metadata": {},
   "outputs": [],
   "source": [
    "ps_array = np.array(df.package_size)"
   ]
  },
  {
   "cell_type": "markdown",
   "id": "70e424bf",
   "metadata": {},
   "source": [
    "### Plot histogram of PackageSize"
   ]
  },
  {
   "cell_type": "code",
   "execution_count": 5,
   "id": "eda3100c",
   "metadata": {},
   "outputs": [
    {
     "data": {
      "image/png": "[encoded data removed]",
      "text/plain": [
       "<Figure size 432x288 with 1 Axes>"
      ]
     },
     "metadata": {
      "needs_background": "light"
     },
     "output_type": "display_data"
    }
   ],
   "source": [
    "ps_hx, ps_hy, _ = plt.hist(ps_array, bins=50, color=\"lightblue\")\n",
    "\n",
    "plt.title('Histogram')\n",
    "plt.grid()\n",
    "\n",
    "plt.show()\n",
    "plt.close()"
   ]
  },
  {
   "cell_type": "markdown",
   "id": "46b38127",
   "metadata": {},
   "source": [
    "### Apply cumulative sum function "
   ]
  },
  {
   "cell_type": "code",
   "execution_count": 6,
   "id": "a2568b6c",
   "metadata": {
    "scrolled": true
   },
   "outputs": [
    {
     "data": {
      "image/png": "[encoded data removed]",
      "text/plain": [
       "<Figure size 432x288 with 1 Axes>"
      ]
     },
     "metadata": {
      "needs_background": "light"
     },
     "output_type": "display_data"
    }
   ],
   "source": [
    "ps_cumsum = np.cumsum(ps_hx)/ps_array.size\n",
    "ps_ccdf = 1 - ps_cumsum\n",
    "ps_acf = [pd.Series(ps_array).autocorr(lag) for lag in range(2000)]\n",
    "\n",
    "plt.plot(ps_hy[1:], ps_cumsum)\n",
    "\n",
    "plt.title('Cumulative sum function')\n",
    "\n",
    "plt.show()\n",
    "plt.close()"
   ]
  },
  {
   "cell_type": "markdown",
   "id": "a347a6dd",
   "metadata": {},
   "source": [
    "### Kurtosis and Skewness"
   ]
  },
  {
   "cell_type": "code",
   "execution_count": 7,
   "id": "4cbfc70f",
   "metadata": {},
   "outputs": [
    {
     "name": "stdout",
     "output_type": "stream",
     "text": [
      "Skewness: 0.06706748541553284\n",
      "Kurtosis: -1.7370258256563889\n"
     ]
    }
   ],
   "source": [
    "ps_skewness = df.package_size.skew()\n",
    "ps_kurtosis = df.package_size.kurtosis()\n",
    "print(f\"Skewness: {ps_skewness}\\nKurtosis: {ps_kurtosis}\")"
   ]
  },
  {
   "cell_type": "markdown",
   "id": "04374d5b",
   "metadata": {},
   "source": [
    "## Analisys"
   ]
  },
  {
   "cell_type": "code",
   "execution_count": 8,
   "id": "1bbfeb3a",
   "metadata": {},
   "outputs": [],
   "source": [
    "df_100ms = df.package_size.resample('100ms').mean()\n",
    "df_1s = df.package_size.resample('1s').mean()\n",
    "df_10s = df.package_size.resample('10s').mean()"
   ]
  },
  {
   "cell_type": "code",
   "execution_count": 9,
   "id": "e5023a40",
   "metadata": {},
   "outputs": [
    {
     "data": {
      "text/plain": [
       "count    9998.000000\n",
       "mean      629.974211\n",
       "std       159.518004\n",
       "min        64.000000\n",
       "25%       552.377404\n",
       "50%       647.821287\n",
       "75%       732.790184\n",
       "max      1241.428571\n",
       "Name: package_size, dtype: float64"
      ]
     },
     "execution_count": 9,
     "metadata": {},
     "output_type": "execute_result"
    }
   ],
   "source": [
    "df_100ms.describe()"
   ]
  },
  {
   "cell_type": "code",
   "execution_count": 10,
   "id": "878b06dc",
   "metadata": {},
   "outputs": [
    {
     "data": {
      "text/plain": [
       "count    1000.000000\n",
       "mean      634.518763\n",
       "std        98.104762\n",
       "min       144.520161\n",
       "25%       588.484790\n",
       "50%       644.569058\n",
       "75%       695.482995\n",
       "max       898.108696\n",
       "Name: package_size, dtype: float64"
      ]
     },
     "execution_count": 10,
     "metadata": {},
     "output_type": "execute_result"
    }
   ],
   "source": [
    "df_1s.describe()"
   ]
  },
  {
   "cell_type": "code",
   "execution_count": 11,
   "id": "c3222cc5",
   "metadata": {},
   "outputs": [
    {
     "data": {
      "text/plain": [
       "count    100.000000\n",
       "mean     636.003110\n",
       "std       73.424498\n",
       "min      336.908525\n",
       "25%      604.706612\n",
       "50%      651.287002\n",
       "75%      682.536044\n",
       "max      794.329938\n",
       "Name: package_size, dtype: float64"
      ]
     },
     "execution_count": 11,
     "metadata": {},
     "output_type": "execute_result"
    }
   ],
   "source": [
    "df_10s.describe()"
   ]
  },
  {
   "cell_type": "code",
   "execution_count": 12,
   "id": "c9008351",
   "metadata": {},
   "outputs": [
    {
     "data": {
      "image/png": "[encoded data removed]",
      "text/plain": [
       "<Figure size 432x288 with 1 Axes>"
      ]
     },
     "metadata": {
      "needs_background": "light"
     },
     "output_type": "display_data"
    }
   ],
   "source": [
    "d100ms_hx, d100ms_hy, _ = plt.hist(df_100ms, bins=50, color=\"lightblue\")\n",
    "d1s_hx, d1s_hy, _ = plt.hist(df_1s, bins=50, color=\"red\")\n",
    "d1s_hx, d1s_hy, _ = plt.hist(df_10s, bins=50, color=\"orange\")\n",
    "\n",
    "plt.ylim(0.0,max(d100ms_hx)+0.05)\n",
    "plt.title('Histogram')\n",
    "plt.grid()\n",
    "\n",
    "plt.show()\n",
    "plt.close()"
   ]
  },
  {
   "cell_type": "markdown",
   "id": "8f288a68",
   "metadata": {},
   "source": [
    "## 100ms"
   ]
  },
  {
   "cell_type": "markdown",
   "id": "132e032c",
   "metadata": {},
   "source": [
    "### Histogram"
   ]
  },
  {
   "cell_type": "code",
   "execution_count": 13,
   "id": "2088e514",
   "metadata": {},
   "outputs": [
    {
     "data": {
      "image/png": "[encoded data removed]",
      "text/plain": [
       "<Figure size 432x288 with 1 Axes>"
      ]
     },
     "metadata": {
      "needs_background": "light"
     },
     "output_type": "display_data"
    }
   ],
   "source": [
    "d100ms_hx, d100ms_hy, _ = plt.hist(df_100ms, bins=50, color=\"lightblue\")\n",
    "\n",
    "plt.ylim(0.0,max(d100ms_hx)+0.05)\n",
    "plt.title('Histogram')\n",
    "plt.grid()\n",
    "\n",
    "plt.show()\n",
    "plt.close()"
   ]
  },
  {
   "cell_type": "markdown",
   "id": "931da6a6",
   "metadata": {},
   "source": [
    "### Cumulative sum function"
   ]
  },
  {
   "cell_type": "code",
   "execution_count": 14,
   "id": "515a9542",
   "metadata": {},
   "outputs": [
    {
     "data": {
      "image/png": "[encoded data removed]",
      "text/plain": [
       "<Figure size 432x288 with 1 Axes>"
      ]
     },
     "metadata": {
      "needs_background": "light"
     },
     "output_type": "display_data"
    }
   ],
   "source": [
    "dx = d100ms_hx[1] - d100ms_hy[0]\n",
    "ps_100ms_cumsum = np.cumsum(d100ms_hx)/df_100ms.size\n",
    "\n",
    "plt.plot(d100ms_hy[1:], ps_100ms_cumsum, color=\"lightblue\")\n",
    "\n",
    "plt.title('Cumulative sum function')\n",
    "\n",
    "plt.show()\n",
    "plt.close()"
   ]
  },
  {
   "cell_type": "markdown",
   "id": "729dce13",
   "metadata": {},
   "source": [
    "### Poisson"
   ]
  },
  {
   "cell_type": "code",
   "execution_count": 15,
   "id": "f129ca0b",
   "metadata": {},
   "outputs": [
    {
     "data": {
      "text/plain": [
       "Text(0, 0.5, 'P(X=k)')"
      ]
     },
     "execution_count": 15,
     "metadata": {},
     "output_type": "execute_result"
    },
    {
     "data": {
      "image/png": "[encoded data removed]",
      "text/plain": [
       "<Figure size 432x288 with 1 Axes>"
      ]
     },
     "metadata": {
      "needs_background": "light"
     },
     "output_type": "display_data"
    }
   ],
   "source": [
    "poisson_100ms = poisson.rvs(mu=df_100ms.mean(), size=df_100ms.size)\n",
    "sns.histplot(poisson_100ms, color=\"lightblue\", bins=50)\n",
    "plt.xlabel('k')\n",
    "plt.ylabel('P(X=k)')"
   ]
  },
  {
   "cell_type": "code",
   "execution_count": 16,
   "id": "06e9edf6",
   "metadata": {},
   "outputs": [
    {
     "data": {
      "text/plain": [
       "Text(0, 0.5, 'P(X=k)')"
      ]
     },
     "execution_count": 16,
     "metadata": {},
     "output_type": "execute_result"
    },
    {
     "data": {
      "image/png": "[encoded data removed]",
      "text/plain": [
       "<Figure size 432x288 with 1 Axes>"
      ]
     },
     "metadata": {
      "needs_background": "light"
     },
     "output_type": "display_data"
    }
   ],
   "source": [
    "d100ms_hx, d100ms_hy, _ = plt.hist(df_100ms, bins=50, color=\"lightblue\")\n",
    "sns.histplot(poisson_100ms, color=\"blue\")\n",
    "plt.xlabel('k')\n",
    "plt.ylabel('P(X=k)')"
   ]
  },
  {
   "cell_type": "markdown",
   "id": "cff22878",
   "metadata": {},
   "source": [
    "### Kurtosis and skewness"
   ]
  },
  {
   "cell_type": "code",
   "execution_count": 17,
   "id": "2e24d3b6",
   "metadata": {},
   "outputs": [
    {
     "name": "stdout",
     "output_type": "stream",
     "text": [
      "Skewness: -0.8639582972718376\n",
      "Kurtosis: 1.6652734682835595\n"
     ]
    }
   ],
   "source": [
    "skewness_100ms = df_100ms.skew()\n",
    "kurtosis_100ms = df_100ms.kurtosis()\n",
    "print(f\"Skewness: {skewness_100ms}\\nKurtosis: {kurtosis_100ms}\")"
   ]
  },
  {
   "cell_type": "markdown",
   "id": "c1adad1b",
   "metadata": {},
   "source": [
    "### CCDF On log"
   ]
  },
  {
   "cell_type": "code",
   "execution_count": 18,
   "id": "0ed2ca24",
   "metadata": {},
   "outputs": [
    {
     "data": {
      "image/png": "[encoded data removed]",
      "text/plain": [
       "<Figure size 432x288 with 1 Axes>"
      ]
     },
     "metadata": {
      "needs_background": "light"
     },
     "output_type": "display_data"
    }
   ],
   "source": [
    "ps_100ms_ccdf = 1 - ps_100ms_cumsum\n",
    "\n",
    "plt.plot(ps_100ms_ccdf, color=\"lightblue\")\n",
    "plt.plot(ps_ccdf, color=\"blue\")\n",
    "\n",
    "plt.yscale(\"log\")\n",
    "plt.xscale(\"log\")\n",
    "plt.title('CCDF')\n",
    "\n",
    "plt.show()\n",
    "plt.close()"
   ]
  },
  {
   "cell_type": "markdown",
   "id": "08a0e0e1",
   "metadata": {},
   "source": [
    "### ACF"
   ]
  },
  {
   "cell_type": "code",
   "execution_count": 67,
   "id": "21a832a9",
   "metadata": {
    "scrolled": true
   },
   "outputs": [
    {
     "data": {
      "image/png": "[encoded data removed]",
      "text/plain": [
       "<Figure size 432x288 with 1 Axes>"
      ]
     },
     "metadata": {
      "needs_background": "light"
     },
     "output_type": "display_data"
    }
   ],
   "source": [
    "ps_100ms_acf = [df_100ms.autocorr(lag) for lag in range(500)]\n",
    "\n",
    "plt.plot(ps_100ms_acf, color=\"lightblue\")\n",
    "#plt.plot(ps_acf, color=\"blue\")\n",
    "\n",
    "# plt.yscale(\"log\")\n",
    "# plt.xscale(\"log\")\n",
    "plt.title('Autocorrelation Function')\n",
    "\n",
    "plt.show()\n",
    "plt.close()"
   ]
  },
  {
   "cell_type": "markdown",
   "id": "e1df5119",
   "metadata": {},
   "source": [
    "### Attempts to find a maching distribution"
   ]
  },
  {
   "cell_type": "markdown",
   "id": "35457311",
   "metadata": {},
   "source": [
    "#### Pareto"
   ]
  },
  {
   "cell_type": "code",
   "execution_count": 20,
   "id": "8177e593",
   "metadata": {
    "scrolled": true
   },
   "outputs": [
    {
     "data": {
      "text/plain": [
       "Text(0, 0.5, 'P(X=k)')"
      ]
     },
     "execution_count": 20,
     "metadata": {},
     "output_type": "execute_result"
    },
    {
     "data": {
      "image/png": "[encoded data removed]",
      "text/plain": [
       "<Figure size 432x288 with 1 Axes>"
      ]
     },
     "metadata": {
      "needs_background": "light"
     },
     "output_type": "display_data"
    }
   ],
   "source": [
    "pareto_100ms = pareto.rvs(df_100ms.sort_values()[0], size=df_100ms.size)\n",
    "sns.histplot(pareto_100ms, color=\"lightblue\", bins=50)\n",
    "plt.xlabel('k')\n",
    "plt.ylabel('P(X=k)')"
   ]
  },
  {
   "cell_type": "code",
   "execution_count": 21,
   "id": "7ff2df91",
   "metadata": {
    "scrolled": true
   },
   "outputs": [
    {
     "name": "stdout",
     "output_type": "stream",
     "text": [
      "Skewness: original[-0.8639582972718376]\t| new[2.076619365729417]\n",
      "Kurtosis: original[1.6652734682835595]\t| new[6.558655251645515]\n"
     ]
    }
   ],
   "source": [
    "pareto_skewness_100ms = skew(pareto_100ms)\n",
    "pareto_kurtosis_100ms = kurtosis(pareto_100ms)\n",
    "print(f\"Skewness: original[{skewness_100ms}]\\t| new[{pareto_skewness_100ms}]\\nKurtosis: original[{kurtosis_100ms}]\\t| new[{pareto_kurtosis_100ms}]\")"
   ]
  },
  {
   "cell_type": "markdown",
   "id": "aee9d3ba",
   "metadata": {},
   "source": [
    "#### Mielke"
   ]
  },
  {
   "cell_type": "code",
   "execution_count": 22,
   "id": "1d328e67",
   "metadata": {
    "scrolled": true
   },
   "outputs": [
    {
     "data": {
      "text/plain": [
       "Text(0, 0.5, 'P(X=k)')"
      ]
     },
     "execution_count": 22,
     "metadata": {},
     "output_type": "execute_result"
    },
    {
     "data": {
      "image/png": "[encoded data removed]",
      "text/plain": [
       "<Figure size 432x288 with 1 Axes>"
      ]
     },
     "metadata": {
      "needs_background": "light"
     },
     "output_type": "display_data"
    }
   ],
   "source": [
    "mielke_100ms = mielke.rvs(k=kurtosis_100ms, s=skewness_100ms*-1, size=df_100ms.size)\n",
    "sns.histplot(mielke_100ms, color=\"lightblue\", bins=50)\n",
    "plt.xlabel('k')\n",
    "plt.ylabel('P(X=k)')"
   ]
  },
  {
   "cell_type": "code",
   "execution_count": 23,
   "id": "f4d04405",
   "metadata": {},
   "outputs": [
    {
     "name": "stdout",
     "output_type": "stream",
     "text": [
      "Skewness: original[-0.8639582972718376]\t| new[52.59429332278848]\n",
      "Kurtosis: original[1.6652734682835595]\t| new[3323.097060454004]\n"
     ]
    }
   ],
   "source": [
    "mielke_skewness_100ms = skew(mielke_100ms)\n",
    "mielke_kurtosis_100ms = kurtosis(mielke_100ms)\n",
    "print(f\"Skewness: original[{skewness_100ms}]\\t| new[{mielke_skewness_100ms}]\\nKurtosis: original[{kurtosis_100ms}]\\t| new[{mielke_kurtosis_100ms}]\")"
   ]
  },
  {
   "cell_type": "markdown",
   "id": "4b1322ce",
   "metadata": {},
   "source": [
    "#### Nakagami"
   ]
  },
  {
   "cell_type": "code",
   "execution_count": 24,
   "id": "992f7a11",
   "metadata": {},
   "outputs": [
    {
     "data": {
      "text/plain": [
       "Text(0, 0.5, 'P(X=k)')"
      ]
     },
     "execution_count": 24,
     "metadata": {},
     "output_type": "execute_result"
    },
    {
     "data": {
      "image/png": "[encoded data removed]",
      "text/plain": [
       "<Figure size 432x288 with 1 Axes>"
      ]
     },
     "metadata": {
      "needs_background": "light"
     },
     "output_type": "display_data"
    }
   ],
   "source": [
    "nakagami_100ms = nakagami.rvs(df_100ms.mean(), size=df_100ms.size)\n",
    "sns.histplot(nakagami_100ms, color=\"lightblue\", bins=50)\n",
    "plt.xlabel('k')\n",
    "plt.ylabel('P(X=k)')"
   ]
  },
  {
   "cell_type": "code",
   "execution_count": 25,
   "id": "f39b14e1",
   "metadata": {},
   "outputs": [
    {
     "name": "stdout",
     "output_type": "stream",
     "text": [
      "Skewness: original[-0.8639582972718376]\t| new[0.0277476028504019]\n",
      "Kurtosis: original[1.6652734682835595]\t| new[-0.028021147477335084]\n"
     ]
    }
   ],
   "source": [
    "nakagami_skewness_100ms = skew(nakagami_100ms)\n",
    "nakagami_kurtosis_100ms = kurtosis(nakagami_100ms)\n",
    "print(f\"Skewness: original[{skewness_100ms}]\\t| new[{nakagami_skewness_100ms}]\\nKurtosis: original[{kurtosis_100ms}]\\t| new[{nakagami_kurtosis_100ms}]\")"
   ]
  },
  {
   "cell_type": "markdown",
   "id": "fe5d331b",
   "metadata": {},
   "source": [
    "#### pearson3"
   ]
  },
  {
   "cell_type": "code",
   "execution_count": 26,
   "id": "41170bdf",
   "metadata": {},
   "outputs": [
    {
     "data": {
      "text/plain": [
       "Text(0, 0.5, 'P(X=k)')"
      ]
     },
     "execution_count": 26,
     "metadata": {},
     "output_type": "execute_result"
    },
    {
     "data": {
      "image/png": "[encoded data removed]",
      "text/plain": [
       "<Figure size 432x288 with 1 Axes>"
      ]
     },
     "metadata": {
      "needs_background": "light"
     },
     "output_type": "display_data"
    }
   ],
   "source": [
    "pearson3_100ms = pearson3.rvs(skewness_100ms, size=df_100ms.size)\n",
    "sns.histplot(pearson3_100ms, color=\"lightblue\", bins=50)\n",
    "plt.xlabel('k')\n",
    "plt.ylabel('P(X=k)')"
   ]
  },
  {
   "cell_type": "code",
   "execution_count": 27,
   "id": "dd44179f",
   "metadata": {
    "scrolled": true
   },
   "outputs": [
    {
     "name": "stdout",
     "output_type": "stream",
     "text": [
      "Skewness: original[-0.8639582972718376]\t| new[-0.9243489792766463]\n",
      "Kurtosis: original[1.6652734682835595]\t| new[1.5253804429411337]\n"
     ]
    }
   ],
   "source": [
    "pearson3_skewness_100ms = skew(pearson3_100ms)\n",
    "pearson3_kurtosis_100ms = kurtosis(pearson3_100ms)\n",
    "print(f\"Skewness: original[{skewness_100ms}]\\t| new[{pearson3_skewness_100ms}]\\nKurtosis: original[{kurtosis_100ms}]\\t| new[{pearson3_kurtosis_100ms}]\")"
   ]
  },
  {
   "cell_type": "markdown",
   "id": "716eb063",
   "metadata": {},
   "source": [
    "## 1 Sec"
   ]
  },
  {
   "cell_type": "markdown",
   "id": "ab21f8b7",
   "metadata": {},
   "source": [
    "### Histogram"
   ]
  },
  {
   "cell_type": "code",
   "execution_count": 28,
   "id": "bb146534",
   "metadata": {},
   "outputs": [
    {
     "data": {
      "image/png": "[encoded data removed]",
      "text/plain": [
       "<Figure size 432x288 with 1 Axes>"
      ]
     },
     "metadata": {
      "needs_background": "light"
     },
     "output_type": "display_data"
    }
   ],
   "source": [
    "d1s_hx, d1s_hy, _ = plt.hist(df_1s, bins=20, color=\"red\")\n",
    "\n",
    "plt.ylim(0.0,max(d1s_hx)+0.05)\n",
    "plt.title('Histogram')\n",
    "plt.grid()\n",
    "\n",
    "plt.show()\n",
    "plt.close()"
   ]
  },
  {
   "cell_type": "markdown",
   "id": "9c7372f4",
   "metadata": {},
   "source": [
    "### Cumulative sum function"
   ]
  },
  {
   "cell_type": "code",
   "execution_count": 29,
   "id": "9d25d3a9",
   "metadata": {},
   "outputs": [
    {
     "data": {
      "image/png": "[encoded data removed]",
      "text/plain": [
       "<Figure size 432x288 with 1 Axes>"
      ]
     },
     "metadata": {
      "needs_background": "light"
     },
     "output_type": "display_data"
    }
   ],
   "source": [
    "ps_1s_cumsum = np.cumsum(d1s_hx)/df_1s.size\n",
    "\n",
    "plt.plot(d1s_hy[1:], ps_1s_cumsum, color=\"red\")\n",
    "\n",
    "plt.title('Cumulative sum function')\n",
    "\n",
    "plt.show()\n",
    "plt.close()"
   ]
  },
  {
   "cell_type": "markdown",
   "id": "e971900d",
   "metadata": {},
   "source": [
    "### Poisson"
   ]
  },
  {
   "cell_type": "code",
   "execution_count": 30,
   "id": "652c72c8",
   "metadata": {},
   "outputs": [
    {
     "data": {
      "text/plain": [
       "Text(0, 0.5, 'P(X=k)')"
      ]
     },
     "execution_count": 30,
     "metadata": {},
     "output_type": "execute_result"
    },
    {
     "data": {
      "image/png": "[encoded data removed]",
      "text/plain": [
       "<Figure size 432x288 with 1 Axes>"
      ]
     },
     "metadata": {
      "needs_background": "light"
     },
     "output_type": "display_data"
    }
   ],
   "source": [
    "poisson_1s = poisson.rvs(mu=df_1s.mean(), size=df_1s.size)\n",
    "sns.histplot(poisson_1s, color=\"red\", bins=20)\n",
    "plt.xlabel('k')\n",
    "plt.ylabel('P(X=k)')"
   ]
  },
  {
   "cell_type": "code",
   "execution_count": 31,
   "id": "64f72a3b",
   "metadata": {
    "scrolled": true
   },
   "outputs": [
    {
     "data": {
      "text/plain": [
       "Text(0, 0.5, 'P(X=k)')"
      ]
     },
     "execution_count": 31,
     "metadata": {},
     "output_type": "execute_result"
    },
    {
     "data": {
      "image/png": "[encoded data removed]",
      "text/plain": [
       "<Figure size 432x288 with 1 Axes>"
      ]
     },
     "metadata": {
      "needs_background": "light"
     },
     "output_type": "display_data"
    }
   ],
   "source": [
    "_, _, _ = plt.hist(df_1s, bins=20, color=\"red\")\n",
    "sns.histplot(poisson_1s, color=\"green\", bins=20)\n",
    "plt.xlabel('k')\n",
    "plt.ylabel('P(X=k)')"
   ]
  },
  {
   "cell_type": "markdown",
   "id": "94212df5",
   "metadata": {},
   "source": [
    "### Kurtosis and skewness"
   ]
  },
  {
   "cell_type": "code",
   "execution_count": 32,
   "id": "cf460e73",
   "metadata": {},
   "outputs": [
    {
     "name": "stdout",
     "output_type": "stream",
     "text": [
      "Skewness: -1.1721574747649857\n",
      "Kurtosis: 3.3777700549876033\n"
     ]
    }
   ],
   "source": [
    "skewness_1s = df_1s.skew()\n",
    "kurtosis_1s = df_1s.kurtosis()\n",
    "print(f\"Skewness: {skewness_1s}\\nKurtosis: {kurtosis_1s}\")"
   ]
  },
  {
   "cell_type": "markdown",
   "id": "3f4364a0",
   "metadata": {},
   "source": [
    "### CCDF On log"
   ]
  },
  {
   "cell_type": "code",
   "execution_count": 33,
   "id": "d1ab8e84",
   "metadata": {},
   "outputs": [
    {
     "data": {
      "image/png": "[encoded data removed]",
      "text/plain": [
       "<Figure size 432x288 with 1 Axes>"
      ]
     },
     "metadata": {
      "needs_background": "light"
     },
     "output_type": "display_data"
    }
   ],
   "source": [
    "ps_1s_ccdf = 1 - ps_1s_cumsum\n",
    "\n",
    "plt.plot(ps_1s_ccdf, color=\"red\")\n",
    "plt.plot(ps_ccdf, color=\"blue\")\n",
    "\n",
    "plt.yscale(\"log\")\n",
    "plt.xscale(\"log\")\n",
    "plt.title('CCDF')\n",
    "\n",
    "plt.show()\n",
    "plt.close()"
   ]
  },
  {
   "cell_type": "markdown",
   "id": "890a4e1f",
   "metadata": {},
   "source": [
    "### ACF"
   ]
  },
  {
   "cell_type": "code",
   "execution_count": 69,
   "id": "b9fe0fc9",
   "metadata": {
    "scrolled": true
   },
   "outputs": [
    {
     "data": {
      "image/png": "[encoded data removed]",
      "text/plain": [
       "<Figure size 432x288 with 1 Axes>"
      ]
     },
     "metadata": {
      "needs_background": "light"
     },
     "output_type": "display_data"
    }
   ],
   "source": [
    "ps_1s_acf = [df_1s.autocorr(lag) for lag in range(500)]\n",
    "\n",
    "plt.plot(ps_1s_acf, color=\"red\")\n",
    "#plt.plot(ps_acf, color=\"blue\")\n",
    "\n",
    "# plt.yscale(\"log\")\n",
    "# plt.xscale(\"log\")\n",
    "plt.title('Autocorrelation Function')\n",
    "\n",
    "plt.show()\n",
    "plt.close()"
   ]
  },
  {
   "cell_type": "markdown",
   "id": "dd2e1bf5",
   "metadata": {},
   "source": [
    "### Attempts to find a maching distribution"
   ]
  },
  {
   "cell_type": "markdown",
   "id": "313fcd54",
   "metadata": {},
   "source": [
    "#### Pareto"
   ]
  },
  {
   "cell_type": "code",
   "execution_count": 35,
   "id": "779c260f",
   "metadata": {
    "scrolled": false
   },
   "outputs": [
    {
     "data": {
      "text/plain": [
       "Text(0, 0.5, 'P(X=k)')"
      ]
     },
     "execution_count": 35,
     "metadata": {},
     "output_type": "execute_result"
    },
    {
     "data": {
      "image/png": "[encoded data removed]",
      "text/plain": [
       "<Figure size 432x288 with 1 Axes>"
      ]
     },
     "metadata": {
      "needs_background": "light"
     },
     "output_type": "display_data"
    }
   ],
   "source": [
    "pareto_1s = pareto.rvs(df_1s.sort_values()[0], size=df_1s.size)\n",
    "sns.histplot(pareto_1s, color=\"red\", bins=50)\n",
    "plt.xlabel('k')\n",
    "plt.ylabel('P(X=k)')"
   ]
  },
  {
   "cell_type": "code",
   "execution_count": 36,
   "id": "d4937a6c",
   "metadata": {
    "scrolled": true
   },
   "outputs": [
    {
     "name": "stdout",
     "output_type": "stream",
     "text": [
      "Skewness: original[-1.1721574747649857]\t| new[2.0242635875707173]\n",
      "Kurtosis: original[3.3777700549876033]\t| new[5.39841258279427]\n"
     ]
    }
   ],
   "source": [
    "pareto_skewness_1s = skew(pareto_1s)\n",
    "pareto_kurtosis_1s = kurtosis(pareto_1s)\n",
    "print(f\"Skewness: original[{skewness_1s}]\\t| new[{pareto_skewness_1s}]\\nKurtosis: original[{kurtosis_1s}]\\t| new[{pareto_kurtosis_1s}]\")"
   ]
  },
  {
   "cell_type": "markdown",
   "id": "b922f70b",
   "metadata": {},
   "source": [
    "#### Mielke"
   ]
  },
  {
   "cell_type": "code",
   "execution_count": 37,
   "id": "911bf501",
   "metadata": {
    "scrolled": true
   },
   "outputs": [
    {
     "data": {
      "text/plain": [
       "Text(0, 0.5, 'P(X=k)')"
      ]
     },
     "execution_count": 37,
     "metadata": {},
     "output_type": "execute_result"
    },
    {
     "data": {
      "image/png": "[encoded data removed]",
      "text/plain": [
       "<Figure size 432x288 with 1 Axes>"
      ]
     },
     "metadata": {
      "needs_background": "light"
     },
     "output_type": "display_data"
    }
   ],
   "source": [
    "mielke_1s = mielke.rvs(k=kurtosis_1s, s=skewness_1s*-1, size=df_1s.size)\n",
    "sns.histplot(mielke_1s, color=\"red\", bins=50)\n",
    "plt.xlabel('k')\n",
    "plt.ylabel('P(X=k)')"
   ]
  },
  {
   "cell_type": "code",
   "execution_count": 38,
   "id": "0e698b52",
   "metadata": {},
   "outputs": [
    {
     "name": "stdout",
     "output_type": "stream",
     "text": [
      "Skewness: original[-1.1721574747649857]\t| new[11.566117936915106]\n",
      "Kurtosis: original[3.3777700549876033]\t| new[153.81609393467795]\n"
     ]
    }
   ],
   "source": [
    "mielke_skewness_1s = skew(mielke_1s)\n",
    "mielke_kurtosis_1s = kurtosis(mielke_1s)\n",
    "print(f\"Skewness: original[{skewness_1s}]\\t| new[{mielke_skewness_1s}]\\nKurtosis: original[{kurtosis_1s}]\\t| new[{mielke_kurtosis_1s}]\")"
   ]
  },
  {
   "cell_type": "markdown",
   "id": "d92ab3fc",
   "metadata": {},
   "source": [
    "#### Nakagami"
   ]
  },
  {
   "cell_type": "code",
   "execution_count": 39,
   "id": "5cd58294",
   "metadata": {},
   "outputs": [
    {
     "data": {
      "text/plain": [
       "Text(0, 0.5, 'P(X=k)')"
      ]
     },
     "execution_count": 39,
     "metadata": {},
     "output_type": "execute_result"
    },
    {
     "data": {
      "image/png": "[encoded data removed]",
      "text/plain": [
       "<Figure size 432x288 with 1 Axes>"
      ]
     },
     "metadata": {
      "needs_background": "light"
     },
     "output_type": "display_data"
    }
   ],
   "source": [
    "nakagami_1s = nakagami.rvs(df_1s.mean(), size=df_1s.size)\n",
    "sns.histplot(nakagami_1s, color=\"red\", bins=50)\n",
    "plt.xlabel('k')\n",
    "plt.ylabel('P(X=k)')"
   ]
  },
  {
   "cell_type": "code",
   "execution_count": 40,
   "id": "e2e900ad",
   "metadata": {},
   "outputs": [
    {
     "name": "stdout",
     "output_type": "stream",
     "text": [
      "Skewness: original[-1.1721574747649857]\t| new[0.017339325021004236]\n",
      "Kurtosis: original[3.3777700549876033]\t| new[-0.06962298807708267]\n"
     ]
    }
   ],
   "source": [
    "nakagami_skewness_1s = skew(nakagami_1s)\n",
    "nakagami_kurtosis_1s = kurtosis(nakagami_1s)\n",
    "print(f\"Skewness: original[{skewness_1s}]\\t| new[{nakagami_skewness_1s}]\\nKurtosis: original[{kurtosis_1s}]\\t| new[{nakagami_kurtosis_1s}]\")"
   ]
  },
  {
   "cell_type": "markdown",
   "id": "04b58b8e",
   "metadata": {},
   "source": [
    "#### pearson3"
   ]
  },
  {
   "cell_type": "code",
   "execution_count": 41,
   "id": "ea719d31",
   "metadata": {},
   "outputs": [
    {
     "data": {
      "text/plain": [
       "Text(0, 0.5, 'P(X=k)')"
      ]
     },
     "execution_count": 41,
     "metadata": {},
     "output_type": "execute_result"
    },
    {
     "data": {
      "image/png": "[encoded data removed]",
      "text/plain": [
       "<Figure size 432x288 with 1 Axes>"
      ]
     },
     "metadata": {
      "needs_background": "light"
     },
     "output_type": "display_data"
    }
   ],
   "source": [
    "pearson3_1s = pearson3.rvs(skewness_1s, size=df_1s.size)\n",
    "sns.histplot(pearson3_1s, color=\"red\", bins=50)\n",
    "plt.xlabel('k')\n",
    "plt.ylabel('P(X=k)')"
   ]
  },
  {
   "cell_type": "code",
   "execution_count": 42,
   "id": "5ed895c5",
   "metadata": {
    "scrolled": false
   },
   "outputs": [
    {
     "name": "stdout",
     "output_type": "stream",
     "text": [
      "Skewness: original[-1.1721574747649857]\t| new[-1.2401260467791697]\n",
      "Kurtosis: original[3.3777700549876033]\t| new[2.2076570879488644]\n"
     ]
    }
   ],
   "source": [
    "pearson3_skewness_1s = skew(pearson3_1s)\n",
    "pearson3_kurtosis_1s = kurtosis(pearson3_1s)\n",
    "print(f\"Skewness: original[{skewness_1s}]\\t| new[{pearson3_skewness_1s}]\\nKurtosis: original[{kurtosis_1s}]\\t| new[{pearson3_kurtosis_1s}]\")"
   ]
  },
  {
   "cell_type": "markdown",
   "id": "6cf45159",
   "metadata": {},
   "source": [
    "## 10 Sec"
   ]
  },
  {
   "cell_type": "markdown",
   "id": "8be3ae6d",
   "metadata": {},
   "source": [
    "### Histogram"
   ]
  },
  {
   "cell_type": "code",
   "execution_count": 43,
   "id": "34d06c61",
   "metadata": {},
   "outputs": [
    {
     "data": {
      "image/png": "[encoded data removed]",
      "text/plain": [
       "<Figure size 432x288 with 1 Axes>"
      ]
     },
     "metadata": {
      "needs_background": "light"
     },
     "output_type": "display_data"
    }
   ],
   "source": [
    "d10s_hx, d10s_hy, _ = plt.hist(df_10s, color=\"orange\", bins=20)\n",
    "\n",
    "plt.title('Histogram')\n",
    "plt.grid()\n",
    "\n",
    "plt.show()\n",
    "plt.close()"
   ]
  },
  {
   "cell_type": "markdown",
   "id": "d5921370",
   "metadata": {},
   "source": [
    "### Cumulative sum function"
   ]
  },
  {
   "cell_type": "code",
   "execution_count": 44,
   "id": "6ea17fff",
   "metadata": {},
   "outputs": [
    {
     "data": {
      "image/png": "[encoded data removed]",
      "text/plain": [
       "<Figure size 432x288 with 1 Axes>"
      ]
     },
     "metadata": {
      "needs_background": "light"
     },
     "output_type": "display_data"
    }
   ],
   "source": [
    "ps_10s_cumsum = np.cumsum(d10s_hx)/df_10s.size\n",
    "\n",
    "plt.plot(d10s_hy[1:], ps_10s_cumsum, color=\"orange\")\n",
    "\n",
    "plt.title('Cumulative sum function')\n",
    "\n",
    "plt.show()\n",
    "plt.close()"
   ]
  },
  {
   "cell_type": "markdown",
   "id": "61ff7c00",
   "metadata": {},
   "source": [
    "### Poisson"
   ]
  },
  {
   "cell_type": "code",
   "execution_count": 45,
   "id": "ebb429fd",
   "metadata": {},
   "outputs": [
    {
     "data": {
      "text/plain": [
       "Text(0, 0.5, 'P(X=k)')"
      ]
     },
     "execution_count": 45,
     "metadata": {},
     "output_type": "execute_result"
    },
    {
     "data": {
      "image/png": "[encoded data removed]",
      "text/plain": [
       "<Figure size 432x288 with 1 Axes>"
      ]
     },
     "metadata": {
      "needs_background": "light"
     },
     "output_type": "display_data"
    }
   ],
   "source": [
    "poisson_10s = poisson.rvs(mu=df_10s.mean(), size=df_10s.size)\n",
    "sns.histplot(poisson_10s, color=\"orange\", bins=10)\n",
    "plt.xlabel('k')\n",
    "plt.ylabel('P(X=k)')"
   ]
  },
  {
   "cell_type": "code",
   "execution_count": 46,
   "id": "0d2250b7",
   "metadata": {},
   "outputs": [
    {
     "data": {
      "text/plain": [
       "Text(0, 0.5, 'P(X=k)')"
      ]
     },
     "execution_count": 46,
     "metadata": {},
     "output_type": "execute_result"
    },
    {
     "data": {
      "image/png": "[encoded data removed]",
      "text/plain": [
       "<Figure size 432x288 with 1 Axes>"
      ]
     },
     "metadata": {
      "needs_background": "light"
     },
     "output_type": "display_data"
    }
   ],
   "source": [
    "_, _, _ = plt.hist(df_10s, bins=10, color=\"orange\")\n",
    "sns.histplot(poisson_10s, color=\"green\", bins=10)\n",
    "plt.xlabel('k')\n",
    "plt.ylabel('P(X=k)')"
   ]
  },
  {
   "cell_type": "markdown",
   "id": "88bd10da",
   "metadata": {},
   "source": [
    "### Kurtosis and skewness"
   ]
  },
  {
   "cell_type": "code",
   "execution_count": 75,
   "id": "03bdb352",
   "metadata": {},
   "outputs": [
    {
     "name": "stdout",
     "output_type": "stream",
     "text": [
      "100ms:\n",
      "Skewness: -0.8639582972718376\n",
      "Kurtosis: 1.6652734682835595\n",
      "\n",
      "1s:\n",
      "Skewness: -1.1721574747649857\n",
      "Kurtosis: 3.3777700549876033\n",
      "\n",
      "10s:\n",
      "Skewness: -1.4350187428921977\n",
      "Kurtosis: 3.929462753771926\n"
     ]
    }
   ],
   "source": [
    "skewness_10s = df_10s.skew()\n",
    "kurtosis_10s = df_10s.kurtosis()\n",
    "print(f\"100ms:\\nSkewness: {skewness_100ms}\\nKurtosis: {kurtosis_100ms}\\n\")\n",
    "print(f\"1s:\\nSkewness: {skewness_1s}\\nKurtosis: {kurtosis_1s}\\n\")\n",
    "print(f\"10s:\\nSkewness: {skewness_10s}\\nKurtosis: {kurtosis_10s}\")"
   ]
  },
  {
   "cell_type": "markdown",
   "id": "2570c447",
   "metadata": {},
   "source": [
    "### CCDF On log"
   ]
  },
  {
   "cell_type": "code",
   "execution_count": 70,
   "id": "2053f7cf",
   "metadata": {},
   "outputs": [
    {
     "data": {
      "image/png": "[encoded data removed]",
      "text/plain": [
       "<Figure size 432x288 with 1 Axes>"
      ]
     },
     "metadata": {
      "needs_background": "light"
     },
     "output_type": "display_data"
    }
   ],
   "source": [
    "ps_10s_ccdf = 1 - ps_10s_cumsum\n",
    "\n",
    "plt.plot(ps_100ms_ccdf, color=\"lightblue\")\n",
    "plt.plot(ps_1s_ccdf, color=\"red\")\n",
    "plt.plot(ps_10s_ccdf, color=\"orange\")\n",
    "plt.plot(ps_ccdf, color=\"blue\")\n",
    "\n",
    "plt.yscale(\"log\")\n",
    "plt.xscale(\"log\")\n",
    "plt.title('CCDF')\n",
    "\n",
    "plt.show()\n",
    "plt.close()"
   ]
  },
  {
   "cell_type": "markdown",
   "id": "bde58504",
   "metadata": {},
   "source": [
    "### ACF"
   ]
  },
  {
   "cell_type": "code",
   "execution_count": 68,
   "id": "e61a2b4e",
   "metadata": {
    "scrolled": true
   },
   "outputs": [
    {
     "data": {
      "image/png": "[encoded data removed]",
      "text/plain": [
       "<Figure size 432x288 with 1 Axes>"
      ]
     },
     "metadata": {
      "needs_background": "light"
     },
     "output_type": "display_data"
    }
   ],
   "source": [
    "ps_10s_acf = [df_10s.autocorr(lag) for lag in range(50)]\n",
    "\n",
    "plt.plot(ps_10s_acf, color=\"orange\")\n",
    "#plt.plot(ps_acf, color=\"blue\")\n",
    "\n",
    "# plt.yscale(\"log\")\n",
    "# plt.xscale(\"log\")\n",
    "plt.title('Autocorrelation Function')\n",
    "\n",
    "plt.show()\n",
    "plt.close()"
   ]
  },
  {
   "cell_type": "markdown",
   "id": "b81a2f53",
   "metadata": {},
   "source": [
    "### Attempts to find a maching distribution"
   ]
  },
  {
   "cell_type": "markdown",
   "id": "62712f06",
   "metadata": {},
   "source": [
    "#### Pareto"
   ]
  },
  {
   "cell_type": "code",
   "execution_count": 50,
   "id": "b7bdc685",
   "metadata": {
    "scrolled": false
   },
   "outputs": [
    {
     "data": {
      "text/plain": [
       "Text(0, 0.5, 'P(X=k)')"
      ]
     },
     "execution_count": 50,
     "metadata": {},
     "output_type": "execute_result"
    },
    {
     "data": {
      "image/png": "[encoded data removed]",
      "text/plain": [
       "<Figure size 432x288 with 1 Axes>"
      ]
     },
     "metadata": {
      "needs_background": "light"
     },
     "output_type": "display_data"
    }
   ],
   "source": [
    "pareto_10s = pareto.rvs(df_10s.sort_values()[0], size=df_10s.size)\n",
    "sns.histplot(pareto_10s, color=\"orange\", bins=50)\n",
    "plt.xlabel('k')\n",
    "plt.ylabel('P(X=k)')"
   ]
  },
  {
   "cell_type": "code",
   "execution_count": 51,
   "id": "729fb752",
   "metadata": {
    "scrolled": true
   },
   "outputs": [
    {
     "name": "stdout",
     "output_type": "stream",
     "text": [
      "Skewness: original[-1.4350187428921977]\t| new[1.8977529954806691]\n",
      "Kurtosis: original[3.929462753771926]\t| new[4.211872892592029]\n"
     ]
    }
   ],
   "source": [
    "pareto_skewness_10s = skew(pareto_10s)\n",
    "pareto_kurtosis_10s = kurtosis(pareto_10s)\n",
    "print(f\"Skewness: original[{skewness_10s}]\\t| new[{pareto_skewness_10s}]\\nKurtosis: original[{kurtosis_10s}]\\t| new[{pareto_kurtosis_10s}]\")"
   ]
  },
  {
   "cell_type": "markdown",
   "id": "17ac638c",
   "metadata": {},
   "source": [
    "#### Mielke"
   ]
  },
  {
   "cell_type": "code",
   "execution_count": 52,
   "id": "dc0b2f8d",
   "metadata": {
    "scrolled": true
   },
   "outputs": [
    {
     "data": {
      "text/plain": [
       "Text(0, 0.5, 'P(X=k)')"
      ]
     },
     "execution_count": 52,
     "metadata": {},
     "output_type": "execute_result"
    },
    {
     "data": {
      "image/png": "[encoded data removed]",
      "text/plain": [
       "<Figure size 432x288 with 1 Axes>"
      ]
     },
     "metadata": {
      "needs_background": "light"
     },
     "output_type": "display_data"
    }
   ],
   "source": [
    "mielke_10s = mielke.rvs(k=kurtosis_10s, s=skewness_10s*-1, size=df_10s.size)\n",
    "sns.histplot(mielke_10s, color=\"orange\", bins=50)\n",
    "plt.xlabel('k')\n",
    "plt.ylabel('P(X=k)')"
   ]
  },
  {
   "cell_type": "code",
   "execution_count": 53,
   "id": "445c2b5e",
   "metadata": {},
   "outputs": [
    {
     "name": "stdout",
     "output_type": "stream",
     "text": [
      "Skewness: original[-1.4350187428921977\t| new[6.386543952573113]\n",
      "Kurtosis: original[3.929462753771926]\t| new[46.01010693316341]\n"
     ]
    }
   ],
   "source": [
    "mielke_skewness_10s = skew(mielke_10s)\n",
    "mielke_kurtosis_10s = kurtosis(mielke_10s)\n",
    "print(f\"Skewness: original[{skewness_10s}\\t| new[{mielke_skewness_10s}]\\nKurtosis: original[{kurtosis_10s}]\\t| new[{mielke_kurtosis_10s}]\")"
   ]
  },
  {
   "cell_type": "markdown",
   "id": "9f9f79b0",
   "metadata": {},
   "source": [
    "#### Nakagami"
   ]
  },
  {
   "cell_type": "code",
   "execution_count": 54,
   "id": "c66d2979",
   "metadata": {},
   "outputs": [
    {
     "data": {
      "text/plain": [
       "Text(0, 0.5, 'P(X=k)')"
      ]
     },
     "execution_count": 54,
     "metadata": {},
     "output_type": "execute_result"
    },
    {
     "data": {
      "image/png": "[encoded data removed]",
      "text/plain": [
       "<Figure size 432x288 with 1 Axes>"
      ]
     },
     "metadata": {
      "needs_background": "light"
     },
     "output_type": "display_data"
    }
   ],
   "source": [
    "nakagami_10s = nakagami.rvs(df_10s.mean(), size=df_10s.size)\n",
    "sns.histplot(nakagami_10s, color=\"orange\", bins=50)\n",
    "plt.xlabel('k')\n",
    "plt.ylabel('P(X=k)')"
   ]
  },
  {
   "cell_type": "code",
   "execution_count": 55,
   "id": "9a9f1163",
   "metadata": {},
   "outputs": [
    {
     "name": "stdout",
     "output_type": "stream",
     "text": [
      "Skewness: original[-1.4350187428921977]\t| new[0.22428432162754386]\n",
      "Kurtosis: original[3.929462753771926]\t| new[0.433413078598778]\n"
     ]
    }
   ],
   "source": [
    "nakagami_skewness_10s = skew(nakagami_10s)\n",
    "nakagami_kurtosis_10s = kurtosis(nakagami_10s)\n",
    "print(f\"Skewness: original[{skewness_10s}]\\t| new[{nakagami_skewness_10s}]\\nKurtosis: original[{kurtosis_10s}]\\t| new[{nakagami_kurtosis_10s}]\")"
   ]
  },
  {
   "cell_type": "markdown",
   "id": "c2049d83",
   "metadata": {},
   "source": [
    "#### pearson3"
   ]
  },
  {
   "cell_type": "code",
   "execution_count": 56,
   "id": "9f9256ac",
   "metadata": {},
   "outputs": [
    {
     "data": {
      "text/plain": [
       "Text(0, 0.5, 'P(X=k)')"
      ]
     },
     "execution_count": 56,
     "metadata": {},
     "output_type": "execute_result"
    },
    {
     "data": {
      "image/png": "[encoded data removed]",
      "text/plain": [
       "<Figure size 432x288 with 1 Axes>"
      ]
     },
     "metadata": {
      "needs_background": "light"
     },
     "output_type": "display_data"
    }
   ],
   "source": [
    "pearson3_10s = pearson3.rvs(skewness_10s, size=df_10s.size)\n",
    "sns.histplot(pearson3_10s, color=\"orange\", bins=50)\n",
    "plt.xlabel('k')\n",
    "plt.ylabel('P(X=k)')"
   ]
  },
  {
   "cell_type": "code",
   "execution_count": 57,
   "id": "95d700dc",
   "metadata": {
    "scrolled": false
   },
   "outputs": [
    {
     "name": "stdout",
     "output_type": "stream",
     "text": [
      "Skewness: original[-1.4350187428921977]\t| new[-0.9616695375310723]\n",
      "Kurtosis: original[3.929462753771926]\t| new[0.44591425931415385]\n"
     ]
    }
   ],
   "source": [
    "pearson3_skewness_10s = skew(pearson3_10s)\n",
    "pearson3_kurtosis_10s = kurtosis(pearson3_10s)\n",
    "print(f\"Skewness: original[{skewness_10s}]\\t| new[{pearson3_skewness_10s}]\\nKurtosis: original[{kurtosis_10s}]\\t| new[{pearson3_kurtosis_10s}]\")"
   ]
  },
  {
   "cell_type": "code",
   "execution_count": null,
   "id": "7e4ab381",
   "metadata": {},
   "outputs": [],
   "source": []
  }
 ],
 "metadata": {
  "kernelspec": {
   "display_name": "Python 3",
   "language": "python",
   "name": "python3"
  },
  "language_info": {
   "codemirror_mode": {
    "name": "ipython",
    "version": 3
   },
   "file_extension": ".py",
   "mimetype": "text/x-python",
   "name": "python",
   "nbconvert_exporter": "python",
   "pygments_lexer": "ipython3",
   "version": "3.8.5"
  }
 },
 "nbformat": 4,
 "nbformat_minor": 5
}
